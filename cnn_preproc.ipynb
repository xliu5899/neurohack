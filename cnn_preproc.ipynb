{
 "cells": [
  {
   "cell_type": "code",
   "execution_count": 6,
   "id": "84c6eb2a-e1f2-41cf-abd8-a10146296ed6",
   "metadata": {
    "tags": []
   },
   "outputs": [],
   "source": [
    "def load_aws_credentials(profile_name):\n",
    "    \"Returns (access_key, secred_key) from ~/.aws/credentials for the given profile.\"\n",
    "    import boto3\n",
    "    ses = boto3.Session(profile_name=profile_name)\n",
    "    creds = ses.get_credentials()\n",
    "    return (creds.access_key, creds.secret_key)"
   ]
  },
  {
   "cell_type": "code",
   "execution_count": 7,
   "id": "91658531-895c-4940-ade3-43c15b959d5a",
   "metadata": {
    "tags": []
   },
   "outputs": [
    {
     "name": "stderr",
     "output_type": "stream",
     "text": [
      "pixdim[1,2,3] should be non-zero; setting 0 dims to 1\n"
     ]
    }
   ],
   "source": [
    "import neuropythy as ny\n",
    "\n",
    "ny.config['hcp_credentials'] = load_aws_credentials('hcp')\n",
    "\n",
    "filename = '/home/jovyan/shared/HCP/115825/MNINonLinear/Results/tfMRI_MOVIE2_7T_PA/tfMRI_MOVIE2_7T_PA_Atlas_1.6mm_MSMAll_hp2000_clean.dtseries.nii'\n",
    "cii = ny.load(filename)\n",
    "(lh_bold, rh_bold, subcortex_bold) = ny.hcp.cifti_split(cii)"
   ]
  },
  {
   "cell_type": "code",
   "execution_count": 8,
   "id": "c661ed55-76b6-41a6-8da8-20cd9bfd7907",
   "metadata": {
    "tags": []
   },
   "outputs": [
    {
     "data": {
      "text/plain": [
       "(918, 59292)"
      ]
     },
     "execution_count": 8,
     "metadata": {},
     "output_type": "execute_result"
    }
   ],
   "source": [
    "lh_bold.shape"
   ]
  },
  {
   "cell_type": "code",
   "execution_count": 9,
   "id": "9a893d2e-1a0b-482b-9bb4-0b375c140a1f",
   "metadata": {
    "tags": []
   },
   "outputs": [],
   "source": [
    "import numpy as np\n",
    "import matplotlib.pyplot as plt\n",
    "\n",
    "sid = 111312\n",
    "sub = ny.hcp_subject(sid)\n",
    "lh = sub.hemis['lh_LR59k']\n",
    "rh = sub.hemis['rh_LR59k']\n",
    "view_pos = np.array([0, 100.0, 0])\n",
    "lh_mproj_front = ny.map_projection(chirality='lh', registration='fs_LR', center=view_pos, radius=np.pi/2)\n",
    "lh_mproj_back = ny.map_projection(chirality='lh', registration='fs_LR', center=-view_pos, radius=np.pi/2)\n",
    "rh_mproj_front = ny.map_projection(chirality='rh', registration='fs_LR', center=view_pos, radius=np.pi/2)\n",
    "rh_mproj_back = ny.map_projection(chirality='rh', registration='fs_LR', center=-view_pos, radius=np.pi/2)\n",
    "lh_fmap_front = ny.to_flatmap(lh_mproj_front, lh)\n",
    "lh_fmap_back = ny.to_flatmap(lh_mproj_back, lh)\n",
    "rh_fmap_front = ny.to_flatmap(rh_mproj_front, rh)\n",
    "rh_fmap_back = ny.to_flatmap(rh_mproj_back, rh)"
   ]
  },
  {
   "cell_type": "code",
   "execution_count": 10,
   "id": "3d57b4db-fff8-429c-8f87-66cdde960cfe",
   "metadata": {
    "tags": []
   },
   "outputs": [
    {
     "data": {
      "image/png": "[encoded data removed]",
      "text/plain": [
       "<Figure size 1000x500 with 2 Axes>"
      ]
     },
     "metadata": {},
     "output_type": "display_data"
    }
   ],
   "source": [
    "# Flatten the array of the first subject\n",
    "flattened_lh = lh_bold.flatten()\n",
    "flattened_rh = rh_bold.flatten()\n",
    "\n",
    "# Plot histogram of BOLD values to get max and min\n",
    "plt.figure(figsize=(10, 5))  # Adjust figure size if needed\n",
    "\n",
    "plt.subplot(1, 2, 1)\n",
    "plt.hist(flattened_lh, bins=20, color='blue', alpha=0.7)\n",
    "plt.title('Left Hemisphere')\n",
    "\n",
    "plt.subplot(1, 2, 2)\n",
    "plt.hist(flattened_rh, bins=20, color='orange', alpha=0.7)\n",
    "plt.title('Right Hemisphere')\n",
    "\n",
    "plt.tight_layout()\n",
    "plt.show()"
   ]
  },
  {
   "cell_type": "code",
   "execution_count": 11,
   "id": "c92ed72f-3a3c-44bd-a88d-de38249809bd",
   "metadata": {},
   "outputs": [],
   "source": [
    "def sub_channel(lh_data, rh_data):\n",
    "    (fig, axs) = plt.subplots(2, 2, figsize=(2,2), dpi=72*4)\n",
    "    ny.cortex_plot(lh_fmap_front, axes=axs[0,0], color=lh_data[lh_fmap_front.labels], cmap='gray',\n",
    "                   vmin = 0, vmax = 17500)\n",
    "    ny.cortex_plot(lh_fmap_back, axes=axs[1,0], color=lh_data[lh_fmap_back.labels], cmap='gray',\n",
    "                   vmin = 0, vmax = 17500)\n",
    "    ny.cortex_plot(rh_fmap_front, axes=axs[0,1], color=rh_data[rh_fmap_front.labels], cmap='gray',\n",
    "                   vmin = 0, vmax = 17500)\n",
    "    ny.cortex_plot(rh_fmap_back, axes=axs[1,1], color=rh_data[rh_fmap_back.labels], cmap='gray',\n",
    "                   vmin = 0, vmax = 17500)\n",
    "    fig.subplots_adjust(0,0,1,1,0,0)\n",
    "    for ax in axs.flatten():\n",
    "        ax.axis('off')\n",
    "    return fig\n",
    "\n",
    "# vmin and vmax options shoudl include bulk of BOLD values. \n",
    "# take image matrices and flatten and plot as histogram"
   ]
  },
  {
   "cell_type": "code",
   "execution_count": 22,
   "id": "4cedae24-77db-4841-8844-61ea4b2dd182",
   "metadata": {
    "tags": []
   },
   "outputs": [
    {
     "name": "stdout",
     "output_type": "stream",
     "text": [
      "Directory './val/non-social/' created successfully.\n",
      "['115825']\n"
     ]
    }
   ],
   "source": [
    "import os\n",
    "\n",
    "subj_id = []\n",
    "path = '/home/jovyan/shared/HCP/'\n",
    "\n",
    "# Specify the path for a new train/validation set directory\n",
    "train_dir = './train'\n",
    "val_dir = './val'\n",
    "gray_img = './gray_img' # initially stores all the unclassified images\n",
    "\n",
    "# Specify paths for the class directories\n",
    "social_dir_train = './train/social/'\n",
    "social_dir_val = './val/social/'\n",
    "nonsoc_dir_train = './train/non-social/'\n",
    "nonsoc_dir_val = './val/non-social/'\n",
    "\n",
    "# Create the directories\n",
    "os.makedirs(train_dir, exist_ok = True)\n",
    "os.makedirs(val_dir, exist_ok = True)\n",
    "os.makedirs(gray_img, exist_ok = True)\n",
    "os.makedirs(social_dir_train, exist_ok = True)\n",
    "os.makedirs(social_dir_val, exist_ok = True)\n",
    "os.makedirs(nonsoc_dir_train, exist_ok = True)\n",
    "os.makedirs(nonsoc_dir_val, exist_ok = True)\n",
    "\n",
    "# Check if the directory was created\n",
    "if os.path.exists(nonsoc_dir_val):\n",
    "    print(f\"Directory '{nonsoc_dir_val}' created successfully.\")\n",
    "else:\n",
    "    print(f\"Failed to create directory '{nonsoc_dir_val}'.\")\n",
    "    \n",
    "# Scrape HCP folder for subject IDs. Outputs a list of subject IDs\n",
    "for dir in os.listdir(path):\n",
    "    parts = dir.split('.')\n",
    "    subj_id.append(parts[0])\n",
    "    \n",
    "# using list comprehension + enumerate() to remove duplicated from list\n",
    "subj_id = [i for n, i in enumerate(subj_id) if i not in subj_id[:n]]\n",
    "print(subj_id)"
   ]
  },
  {
   "cell_type": "code",
   "execution_count": null,
   "id": "e3f2afe8-b85b-4fac-99a3-8740b52fe99d",
   "metadata": {
    "tags": []
   },
   "outputs": [
    {
     "name": "stderr",
     "output_type": "stream",
     "text": [
      "pixdim[1,2,3] should be non-zero; setting 0 dims to 1\n",
      "WARNING:nibabel.global:pixdim[1,2,3] should be non-zero; setting 0 dims to 1\n"
     ]
    },
    {
     "name": "stdout",
     "output_type": "stream",
     "text": [
      "shape of image matrix 0:  (250, 250)\n",
      "shape of image matrix 1:  (250, 250)\n",
      "shape of image matrix 2:  (250, 250)\n",
      "shape of image matrix 3:  (250, 250)\n",
      "shape of image matrix 4:  (250, 250)\n",
      "shape of image matrix 5:  (250, 250)\n",
      "shape of image matrix 6:  (250, 250)\n",
      "shape of image matrix 7:  (250, 250)\n",
      "shape of image matrix 8:  (250, 250)\n",
      "shape of image matrix 9:  (250, 250)\n",
      "shape of image matrix 10:  (250, 250)\n",
      "shape of image matrix 11:  (250, 250)\n",
      "shape of image matrix 12:  (250, 250)\n",
      "shape of image matrix 13:  (250, 250)\n",
      "shape of image matrix 14:  (250, 250)\n",
      "shape of image matrix 15:  (250, 250)\n",
      "shape of image matrix 16:  (250, 250)\n",
      "shape of image matrix 17:  (250, 250)\n",
      "shape of image matrix 18:  (250, 250)\n",
      "shape of image matrix 19:  (250, 250)\n"
     ]
    },
    {
     "name": "stderr",
     "output_type": "stream",
     "text": [
      "/tmp/ipykernel_269/3384361773.py:2: RuntimeWarning: More than 20 figures have been opened. Figures created through the pyplot interface (`matplotlib.pyplot.figure`) are retained until explicitly closed and may consume too much memory. (To control this warning, see the rcParam `figure.max_open_warning`).\n",
      "  (fig, axs) = plt.subplots(2, 2, figsize=(2,2), dpi=72*4)\n"
     ]
    },
    {
     "name": "stdout",
     "output_type": "stream",
     "text": [
      "shape of image matrix 20:  (250, 250)\n",
      "shape of image matrix 21:  (250, 250)\n",
      "shape of image matrix 22:  (250, 250)\n",
      "shape of image matrix 23:  (250, 250)\n",
      "shape of image matrix 24:  (250, 250)\n",
      "shape of image matrix 25:  (250, 250)\n",
      "shape of image matrix 26:  (250, 250)\n",
      "shape of image matrix 27:  (250, 250)\n",
      "shape of image matrix 28:  (250, 250)\n",
      "shape of image matrix 29:  (250, 250)\n",
      "shape of image matrix 30:  (250, 250)\n",
      "shape of image matrix 31:  (250, 250)\n",
      "shape of image matrix 32:  (250, 250)\n",
      "shape of image matrix 33:  (250, 250)\n",
      "shape of image matrix 34:  (250, 250)\n",
      "shape of image matrix 35:  (250, 250)\n",
      "shape of image matrix 36:  (250, 250)\n",
      "shape of image matrix 37:  (250, 250)\n",
      "shape of image matrix 38:  (250, 250)\n",
      "shape of image matrix 39:  (250, 250)\n",
      "shape of image matrix 40:  (250, 250)\n",
      "shape of image matrix 41:  (250, 250)\n",
      "shape of image matrix 42:  (250, 250)\n",
      "shape of image matrix 43:  (250, 250)\n",
      "shape of image matrix 44:  (250, 250)\n",
      "shape of image matrix 45:  (250, 250)\n",
      "shape of image matrix 46:  (250, 250)\n",
      "shape of image matrix 47:  (250, 250)\n",
      "shape of image matrix 48:  (250, 250)\n",
      "shape of image matrix 49:  (250, 250)\n",
      "shape of image matrix 50:  (250, 250)\n",
      "shape of image matrix 51:  (250, 250)\n",
      "shape of image matrix 52:  (250, 250)\n",
      "shape of image matrix 53:  (250, 250)\n"
     ]
    }
   ],
   "source": [
    "import skimage as sp\n",
    "from PIL import Image\n",
    "\n",
    "chunk_size = 5\n",
    "img_matrices = []\n",
    "\n",
    "for sid in subj_id:\n",
    "    filename = path + sid + '/MNINonLinear/Results/tfMRI_MOVIE2_7T_PA/tfMRI_MOVIE2_7T_PA_Atlas_1.6mm_MSMAll_hp2000_clean.dtseries.nii'\n",
    "    cii = ny.load(filename)\n",
    "    (lh_bold, rh_bold, subcortex_bold) = ny.hcp.cifti_split(cii)\n",
    "    tr = lh_bold.shape[0]\n",
    "    \n",
    "    #initializes matrices of BOLD values across lh/rh vertices (columns) averaged over every 5 TRs (rows)\n",
    "    lh_bold_new = [] \n",
    "    rh_bold_new = []\n",
    "    \n",
    "    # averages over every 5s (1 TR = 1s)\n",
    "    for i in range(0, tr, chunk_size): \n",
    "        lh_chunk = lh_bold[i:i+chunk_size, :]\n",
    "        lh_chunk_mean = np.mean(lh_chunk, axis=0)\n",
    "        lh_bold_new.append(lh_chunk_mean)\n",
    "        rh_chunk = rh_bold[i:i+chunk_size, :]\n",
    "        rh_chunk_mean = np.mean(rh_chunk, axis=0)\n",
    "        rh_bold_new.append(rh_chunk_mean)\n",
    "    # now we have a matrix per hemi and per subject with BOLD averaged into 5s intervals\n",
    "    # don't need to account for inter/intra-individual variability with CNNs;\n",
    "    # thus treat each row as a separate obs\n",
    "        \n",
    "    # create images for each of the 5s slices\n",
    "    for t in range(len(lh_bold_new)): \n",
    "        avg_img = sub_channel(lh_bold_new[t], rh_bold_new[t])\n",
    "        plt.savefig(str(sid) + '_' + str(t) + '.png', dpi = 125)\n",
    "        \n",
    "        # Open the RGBA image\n",
    "        image_path = str(sid) + '_' + str(t) + '.png'\n",
    "        rgba_image = Image.open(image_path)\n",
    "\n",
    "        # Convert the RGBA image to grayscale\n",
    "        grayscale_image = rgba_image.convert('L')\n",
    "\n",
    "        # Save the grayscale image\n",
    "        output_path = './gray_img/' + str(sid) + '_' + str(t) + '_gs.png'\n",
    "        grayscale_image.save(output_path)\n",
    "        \n",
    "        im_mtx = sp.io.imread(output_path)\n",
    "        print(\"shape of image matrix \" + str(t) + \": \", im_mtx.shape)\n",
    "        img_matrices.append(im_mtx)\n",
    "        \n",
    "stacked_matrix = np.stack(img_matrices, axis=2)\n",
    "print(\"Shape of the stacked matrix:\", stacked_matrix.shape)\n",
    "#        ny.save.nifti(filename)\n",
    "#        ny.load(image_array)"
   ]
  },
  {
   "cell_type": "code",
   "execution_count": null,
   "id": "addba5e5-83f7-41ae-940f-f73f3cb1ce38",
   "metadata": {
    "tags": []
   },
   "outputs": [],
   "source": [
    "# create a simulated classification tensor \n",
    "# of length 54 because that's how many images were created before the kernel broke\n",
    "\n",
    "import random\n",
    "\n",
    "vector_length = 54 # could set this to length t\n",
    "random_seed = 42\n",
    "\n",
    "# Set the random seed\n",
    "random.seed(random_seed)\n",
    "\n",
    "# Generate a random vector with random placements of 1's and 0's\n",
    "random_vector = [random.choice([0, 1]) for _ in range(vector_length)]\n",
    "\n",
    "print(table(random_vector))"
   ]
  },
  {
   "cell_type": "code",
   "execution_count": 12,
   "id": "0b46232e-046c-45fa-8606-c6532069f2c4",
   "metadata": {
    "tags": []
   },
   "outputs": [
    {
     "name": "stdout",
     "output_type": "stream",
     "text": [
      "   1  0\n",
      "0  2  0\n",
      "1  3  0\n",
      "2  4  0\n",
      "3  5  0\n",
      "4  6  0\n",
      "[0. 0. 0. 0. 1. 1. 1. 1. 1. 1. 1. 1. 1. 0. 0. 0. 0. 0. 0. 0. 0. 0. 1. 0.\n",
      " 0. 0. 1. 1. 1. 1. 0. 0. 1. 1. 0. 0. 0. 0. 0. 0. 0. 0. 0. 1. 1. 1. 0. 1.\n",
      " 0. 0. 0. 0. 0. 0.]\n",
      "54\n",
      "Proportion of 1s: 0.37\n",
      "Proportion of 0s: 0.63\n"
     ]
    }
   ],
   "source": [
    "# import the actual classification tensor - social vs non-social scenes up to 54*5s = 270s\n",
    "import pandas as pd\n",
    "import numpy as np\n",
    "\n",
    "# Specify the path to the CSV file\n",
    "csv_file_path = './hcp_movie2_face_detection.csv'\n",
    "\n",
    "# Read the CSV file into a pandas DataFrame\n",
    "class_vector = pd.read_csv(csv_file_path)\n",
    "\n",
    "# Display the first few rows of the DataFrame\n",
    "print(class_vector.head())\n",
    "\n",
    "# Calculate the mean for every 5 rows\n",
    "grouped_cv = class_vector.groupby(class_vector.index // 5).mean()\n",
    "\n",
    "# Isolate the 2nd column indicating presence of social interaction\n",
    "second_column = grouped_cv.iloc[:, 1]\n",
    "\n",
    "# Convert the selected column to a NumPy array\n",
    "cv = second_column.to_numpy()\n",
    "\n",
    "# Replace nonzero values with 1 (0 = no social interaction, 1 = social interaction)\n",
    "cv[cv != 0] = 1\n",
    "\n",
    "# Display the resulting modified class vector\n",
    "print(cv)\n",
    "print(len(cv))\n",
    "\n",
    "# Count the occurrences of 1s and 0s\n",
    "num_ones = np.sum(cv == 1)\n",
    "num_zeros = np.sum(cv == 0)\n",
    "\n",
    "# Calculate proportions\n",
    "total_elements = len(cv)\n",
    "proportion_ones = num_ones / total_elements\n",
    "proportion_zeros = num_zeros / total_elements\n",
    "\n",
    "print(f\"Proportion of 1s: {proportion_ones:.2f}\")\n",
    "print(f\"Proportion of 0s: {proportion_zeros:.2f}\")"
   ]
  },
  {
   "cell_type": "code",
   "execution_count": 15,
   "id": "4e2944e4-df6b-41fa-8344-418d406e864e",
   "metadata": {
    "tags": []
   },
   "outputs": [],
   "source": [
    "import os\n",
    "import shutil\n",
    "from sklearn.model_selection import train_test_split\n",
    "\n",
    "# Specify the source directory containing all images\n",
    "source_directory = './gray_img'\n",
    "\n",
    "# Specify paths for the class directories\n",
    "social_dir_train = './train/social/'\n",
    "social_dir_val = './val/social/'\n",
    "nonsoc_dir_train = './train/non-social/'\n",
    "nonsoc_dir_val = './val/non-social/'\n",
    "\n",
    "# List all image filenames in the source directory\n",
    "image_filenames = os.listdir(source_directory)\n",
    "\n",
    "# Split filenames into train and validation sets\n",
    "train_filenames, validation_filenames = train_test_split(image_filenames, test_size=0.3, random_state=42)\n",
    "\n",
    "# Move train images to the train directory\n",
    "for filename in train_filenames:\n",
    "    source_path = os.path.join(source_directory, filename)\n",
    "    name_parts = filename.split('_')\n",
    "    for index, value in enumerate(cv):\n",
    "        if index == int(name_parts[1]):\n",
    "            if value == 1:\n",
    "                destination_path = os.path.join(social_dir_train, filename)\n",
    "            elif value == 0:\n",
    "                destination_path = os.path.join(nonsoc_dir_train, filename)\n",
    "            shutil.move(source_path, destination_path)\n",
    "\n",
    "# Move validation images to the validation directory\n",
    "for filename in validation_filenames:\n",
    "    source_path = os.path.join(source_directory, filename)\n",
    "    name_parts = filename.split('_')\n",
    "    for index, value in enumerate(cv):\n",
    "        if index == int(name_parts[1]):\n",
    "            if value == 1:\n",
    "                destination_path = os.path.join(social_dir_val, filename)\n",
    "            elif value == 0:\n",
    "                destination_path = os.path.join(nonsoc_dir_val, filename)\n",
    "            shutil.move(source_path, destination_path)"
   ]
  },
  {
   "cell_type": "code",
   "execution_count": 17,
   "id": "1b1a5cb9-6d4f-4b46-b594-015c0efbf580",
   "metadata": {
    "tags": []
   },
   "outputs": [
    {
     "name": "stdout",
     "output_type": "stream",
     "text": [
      "['115825_5_gs.png', '115825_9_gs.png', '115825_54_gs.png']\n"
     ]
    }
   ],
   "source": [
    "print(train_filenames)"
   ]
  }
 ],
 "metadata": {
  "kernelspec": {
   "display_name": "Python 3 (ipykernel)",
   "language": "python",
   "name": "python3"
  },
  "language_info": {
   "codemirror_mode": {
    "name": "ipython",
    "version": 3
   },
   "file_extension": ".py",
   "mimetype": "text/x-python",
   "name": "python",
   "nbconvert_exporter": "python",
   "pygments_lexer": "ipython3",
   "version": "3.10.11"
  }
 },
 "nbformat": 4,
 "nbformat_minor": 5
}
